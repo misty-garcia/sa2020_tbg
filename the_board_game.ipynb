{
 "cells": [
  {
   "cell_type": "code",
   "execution_count": 1,
   "id": "a208a96d",
   "metadata": {},
   "outputs": [],
   "source": [
    "import pandas as pd\n",
    "import os"
   ]
  },
  {
   "cell_type": "code",
   "execution_count": 2,
   "id": "da6b8806",
   "metadata": {},
   "outputs": [
    {
     "data": {
      "text/plain": [
       "['Sample Matching Workbook.xlsx', '.ipynb_checkpoints', 'the_board_game.ipynb']"
      ]
     },
     "execution_count": 2,
     "metadata": {},
     "output_type": "execute_result"
    }
   ],
   "source": [
    "os.listdir()"
   ]
  },
  {
   "cell_type": "code",
   "execution_count": 10,
   "id": "3606c9cd",
   "metadata": {},
   "outputs": [],
   "source": [
    "df_applicants = pd.read_excel('Sample Matching Workbook.xlsx')"
   ]
  },
  {
   "cell_type": "code",
   "execution_count": 11,
   "id": "b0c75c5d",
   "metadata": {},
   "outputs": [],
   "source": [
    "for col in df_applicants.columns:\n",
    "    df_applicants.columns = df_applicants.columns.str.lower().str.replace('\\W+', '_', regex=True).str.strip('_')"
   ]
  },
  {
   "cell_type": "code",
   "execution_count": 13,
   "id": "889c8a37",
   "metadata": {},
   "outputs": [
    {
     "data": {
      "text/plain": [
       "Index(['first_name', 'last_name', 'email_address', 'administration_management',\n",
       "       'accounting_finance', 'resource_development', 'law',\n",
       "       'marketing_public_relations_communications', 'event_planning',\n",
       "       'entrepreneurship', 'human_resources', 'strategic_planning',\n",
       "       'real_estate', 'advancing_racial_equity', 'technology',\n",
       "       'government_relations_advocacy',\n",
       "       'have_an_area_of_expertise_not_listed_above_tell_us_about_it_here',\n",
       "       'have_you_participated_in_any_of_the_following_local_leadership_programs',\n",
       "       'board_terms_are_the_length_of_service_on_a_board_these_terms_vary_by_nonprofit_organization_starting_at_2_in_some_cases_there_are_options_to_renew_and_continue_with_this_in_mind_what_is_the_maximum_board_term_commitment_you_are_willing_to_make_for_a_nonprofit_partner_whose_needs_align_with_your_areas_of_expertise',\n",
       "       'board_meetings_range_in_frequency_from_as_frequently_as_once_a_month_to_as_infrequently_as_annually_given_your_schedule_and_the_commitment_required_to_regularly_attend_board_meetings_are_you_available_to_meet_monthly_for_a_nonprofit_whose_needs_align_with_your_areas_of_expertise',\n",
       "       'what_is_the_maximum_contribution_you_are_able_to_personally_donate_give_to_your_prospective_organization_board_within_one_year',\n",
       "       'what_is_the_maximum_amount_you_feel_comfortable_raising_get_for_your_prospective_organization_board_within_one_year',\n",
       "       'total',\n",
       "       'are_you_willing_to_stretch_your_financial_commitment_either_in_personal_donation_or_fundraising_if_there_is_an_sa2020_nonprofit_partner_whose_needs_align_with_your_areas_of_expertise',\n",
       "       'are_there_any_potential_barriers_to_nonprofit_board_service_that_you_would_like_sa2020_and_or_your_prospective_matches_to_be_aware_of_if_so_please_tell_us_more_here',\n",
       "       'below_are_the_nine_community_results_that_make_up_the_shared_community_vision_which_three_community_results_are_you_most_passionate_about'],\n",
       "      dtype='object')"
      ]
     },
     "execution_count": 13,
     "metadata": {},
     "output_type": "execute_result"
    }
   ],
   "source": [
    "df_applicants.columns"
   ]
  },
  {
   "cell_type": "code",
   "execution_count": null,
   "id": "b21e78ca",
   "metadata": {},
   "outputs": [],
   "source": []
  }
 ],
 "metadata": {
  "kernelspec": {
   "display_name": "Python 3 (ipykernel)",
   "language": "python",
   "name": "python3"
  },
  "language_info": {
   "codemirror_mode": {
    "name": "ipython",
    "version": 3
   },
   "file_extension": ".py",
   "mimetype": "text/x-python",
   "name": "python",
   "nbconvert_exporter": "python",
   "pygments_lexer": "ipython3",
   "version": "3.9.12"
  }
 },
 "nbformat": 4,
 "nbformat_minor": 5
}
